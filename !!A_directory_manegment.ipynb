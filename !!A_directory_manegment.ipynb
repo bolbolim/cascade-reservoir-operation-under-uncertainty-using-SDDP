{
 "cells": [
  {
   "cell_type": "code",
   "execution_count": 1,
   "id": "dc457334",
   "metadata": {},
   "outputs": [],
   "source": [
    "import pandas as pd\n",
    "import numpy as np\n",
    "import os\n",
    "import shutil"
   ]
  },
  {
   "cell_type": "code",
   "execution_count": 2,
   "id": "98c7a471",
   "metadata": {},
   "outputs": [
    {
     "name": "stdout",
     "output_type": "stream",
     "text": [
      "Deleting output Folder\n",
      "output\\Adaptibility\n",
      "output\\combined_cascade\n",
      "output\\main_tree_vs_shifted_trees\n",
      "output\\node_solutions\n",
      "output\\node_solutions/main_tree\n",
      "output\\node_solutions/shifted_tree\n",
      "output\\quantile_figs\n",
      "output\\quantile_figs/just_sim\n",
      "output\\quantile_figs/sim_vs_actual\n",
      "output\\quantile_files\n",
      "output\\quantile_files/main\n",
      "output\\quantile_files/shifted\n",
      "output\\solution_scenarios\n",
      "output\\solution_tree\n",
      "output\\temp_files\n",
      "output\\temp_files/node_solutions\n",
      "output\\temp_files/node_solutions/Main_tree\n",
      "output\\temp_files/node_solutions/Shifted_tree\n"
     ]
    }
   ],
   "source": [
    "##Deleting the results from Previous Run\n",
    "\n",
    "if os.path.exists('output') and os.path.isdir('output'):\n",
    "    print(\"Deleting output Folder\")\n",
    "    os.chmod('output', 0o777)\n",
    "    shutil.rmtree('output')\n",
    "##making new \"output\" folder and sub-folders\n",
    "\n",
    "os.mkdir('output')\n",
    "dirs=['Adaptibility','combined_cascade','main_tree_vs_shifted_trees',\"node_solutions\",\"node_solutions/main_tree\",\\\n",
    "     \"node_solutions/shifted_tree\",\"quantile_figs\",\"quantile_figs/just_sim\",\"quantile_figs/sim_vs_actual\",\\\n",
    "     \"quantile_files\",\"quantile_files/main\",\"quantile_files/shifted\",\"solution_scenarios\",\"solution_tree\",\"temp_files\",\"temp_files/node_solutions\",\\\n",
    "      \"temp_files/node_solutions/Main_tree\",\"temp_files/node_solutions/Shifted_tree\",\\\n",
    "     ]\n",
    "\n",
    "for i in dirs:\n",
    "    path=os.path.join('output',i)\n",
    "    os.mkdir(path)\n",
    "    print(path)"
   ]
  }
 ],
 "metadata": {
  "kernelspec": {
   "display_name": "Python 3 (ipykernel)",
   "language": "python",
   "name": "python3"
  },
  "language_info": {
   "codemirror_mode": {
    "name": "ipython",
    "version": 3
   },
   "file_extension": ".py",
   "mimetype": "text/x-python",
   "name": "python",
   "nbconvert_exporter": "python",
   "pygments_lexer": "ipython3",
   "version": "3.11.5"
  }
 },
 "nbformat": 4,
 "nbformat_minor": 5
}
