{
 "cells": [
  {
   "cell_type": "code",
   "execution_count": 1,
   "id": "d0b368af",
   "metadata": {},
   "outputs": [],
   "source": [
    "import numpy as np\n",
    "import pandas as pd\n",
    "import os\n",
    "from tkinter import Tcl"
   ]
  },
  {
   "cell_type": "code",
   "execution_count": 2,
   "id": "c986ee4d",
   "metadata": {},
   "outputs": [
    {
     "data": {
      "text/plain": [
       "'C:\\\\Users\\\\chrs-164-ip\\\\Desktop\\\\Projects\\\\SDDP\\\\General structure\\\\For github'"
      ]
     },
     "execution_count": 2,
     "metadata": {},
     "output_type": "execute_result"
    }
   ],
   "source": [
    "##getting current path\n",
    "\n",
    "cur_path=os.getcwd()\n",
    "cur_path"
   ]
  },
  {
   "cell_type": "code",
   "execution_count": 4,
   "id": "fd239f30",
   "metadata": {},
   "outputs": [
    {
     "data": {
      "text/plain": [
       "0    FP\n",
       "1    GA\n",
       "2    OH\n",
       "3    BB\n",
       "4    FR\n",
       "5    GP\n",
       "Name: name, dtype: object"
      ]
     },
     "execution_count": 4,
     "metadata": {},
     "output_type": "execute_result"
    }
   ],
   "source": [
    "cascade_df=pd.read_excel('input/Cascade_info.xlsx',sheet_name='Cascade')\n",
    "name=cascade_df['name']\n",
    "name"
   ]
  },
  {
   "cell_type": "code",
   "execution_count": 5,
   "id": "3c889cf5",
   "metadata": {},
   "outputs": [
    {
     "name": "stdout",
     "output_type": "stream",
     "text": [
      "8\n"
     ]
    },
    {
     "data": {
      "text/plain": [
       "('Nodes_release_solution_shifted_0.csv',\n",
       " 'Nodes_release_solution_shifted_1.csv',\n",
       " 'Nodes_spill_solution_shifted_0.csv',\n",
       " 'Nodes_spill_solution_shifted_1.csv',\n",
       " 'Nodes_storage_solution_shifted_0.csv',\n",
       " 'Nodes_storage_solution_shifted_1.csv',\n",
       " 'Nodes_total_pflow_solution_shifted_0.csv',\n",
       " 'Nodes_total_pflow_solution_shifted_1.csv')"
      ]
     },
     "execution_count": 5,
     "metadata": {},
     "output_type": "execute_result"
    }
   ],
   "source": [
    "##getting file list of shifted trees solutions\n",
    "path=os.path.join(cur_path,\"output/temp_files/node_solutions/shifted_tree/\")\n",
    "dir_list=os.listdir(path)\n",
    "dir_list=Tcl().call('lsort', '-dict', dir_list)\n",
    "print(len(dir_list))\n",
    "dir_list"
   ]
  },
  {
   "cell_type": "code",
   "execution_count": 6,
   "id": "77800f16",
   "metadata": {},
   "outputs": [],
   "source": [
    "d_list=[]\n",
    "for file in dir_list:\n",
    "    temp=pd.read_csv(os.path.join(cur_path,\"output/temp_files/node_solutions/shifted_tree/\",file),\\\n",
    "                    header=None)\n",
    "    d_list.append(temp)"
   ]
  },
  {
   "cell_type": "code",
   "execution_count": 7,
   "id": "7f621866",
   "metadata": {},
   "outputs": [
    {
     "data": {
      "text/plain": [
       "8"
      ]
     },
     "execution_count": 7,
     "metadata": {},
     "output_type": "execute_result"
    }
   ],
   "source": [
    "len(d_list)"
   ]
  },
  {
   "cell_type": "code",
   "execution_count": 8,
   "id": "61fc2ca3",
   "metadata": {},
   "outputs": [
    {
     "data": {
      "text/plain": [
       "0    FP\n",
       "1    GA\n",
       "2    OH\n",
       "3    BB\n",
       "4    FR\n",
       "5    GP\n",
       "Name: name, dtype: object"
      ]
     },
     "execution_count": 8,
     "metadata": {},
     "output_type": "execute_result"
    }
   ],
   "source": [
    "name"
   ]
  },
  {
   "cell_type": "code",
   "execution_count": 9,
   "id": "0b7fd270",
   "metadata": {},
   "outputs": [],
   "source": [
    "redunt_col=[]\n",
    "col_name=[]\n",
    "all_name=[]\n",
    "for dam in name:\n",
    "    temp_name=dam+'_out'\n",
    "    temp_del=dam+'_in'\n",
    "    redunt_col.append(temp_del)\n",
    "    all_name.append(temp_del)\n",
    "    all_name.append(temp_name)\n",
    "    col_name.append(temp_name)"
   ]
  },
  {
   "cell_type": "code",
   "execution_count": 10,
   "id": "a0685c69",
   "metadata": {},
   "outputs": [
    {
     "data": {
      "text/plain": [
       "['FP_in', 'GA_in', 'OH_in', 'BB_in', 'FR_in', 'GP_in']"
      ]
     },
     "execution_count": 10,
     "metadata": {},
     "output_type": "execute_result"
    }
   ],
   "source": [
    "redunt_col"
   ]
  },
  {
   "cell_type": "code",
   "execution_count": 11,
   "id": "be46473a",
   "metadata": {},
   "outputs": [
    {
     "data": {
      "text/plain": [
       "['FP_out', 'GA_out', 'OH_out', 'BB_out', 'FR_out', 'GP_out']"
      ]
     },
     "execution_count": 11,
     "metadata": {},
     "output_type": "execute_result"
    }
   ],
   "source": [
    "col_name"
   ]
  },
  {
   "cell_type": "code",
   "execution_count": 12,
   "id": "103c4892",
   "metadata": {},
   "outputs": [
    {
     "data": {
      "text/plain": [
       "['FP_in',\n",
       " 'FP_out',\n",
       " 'GA_in',\n",
       " 'GA_out',\n",
       " 'OH_in',\n",
       " 'OH_out',\n",
       " 'BB_in',\n",
       " 'BB_out',\n",
       " 'FR_in',\n",
       " 'FR_out',\n",
       " 'GP_in',\n",
       " 'GP_out']"
      ]
     },
     "execution_count": 12,
     "metadata": {},
     "output_type": "execute_result"
    }
   ],
   "source": [
    "all_name"
   ]
  },
  {
   "cell_type": "code",
   "execution_count": 13,
   "id": "01ca073c",
   "metadata": {},
   "outputs": [],
   "source": [
    "##removing junk strings\n",
    "##removing \"in\" columns \n",
    "##gettting root node solution\n",
    "datasets=pd.DataFrame(columns=col_name)\n",
    "strings=[\n",
    "    'SDDP.State{Float64}\\[','SDDP.State{Float64}\\(','SDDP.State{Float64}\\[SDDP.State{Float64}\\(','\\)','\\)\\]','\\]','\\[',\n",
    "        ]\n",
    "for df in d_list:\n",
    "    df=df[:1]\n",
    "    df=df.replace(strings,\"\",regex=True)\n",
    "    if df.shape[1]==len(name):\n",
    "        df.columns=col_name\n",
    "    elif df.shape[1]==len(name)*2:\n",
    "        df.columns=all_name\n",
    "        df.drop(columns=redunt_col,inplace=True)\n",
    "    else:\n",
    "        print(\"somehting is wrong!\")\n",
    "    datasets=pd.concat([datasets,df])\n",
    "datasets=datasets.astype(float)"
   ]
  },
  {
   "cell_type": "code",
   "execution_count": 14,
   "id": "0bbd281f",
   "metadata": {},
   "outputs": [
    {
     "name": "stdout",
     "output_type": "stream",
     "text": [
      "8\n"
     ]
    }
   ],
   "source": [
    "print(len(datasets))"
   ]
  },
  {
   "cell_type": "code",
   "execution_count": 15,
   "id": "d1ac7cc2",
   "metadata": {},
   "outputs": [],
   "source": [
    "def index_maker(n):\n",
    "    names_ar=np.empty((4,n),dtype=np.dtype('U100'))\n",
    "    for i in range(n):\n",
    "        names_ar[0,i]=f'release_{i}'\n",
    "        names_ar[1,i]=f'spill_{i}'\n",
    "        names_ar[2,i]=f'storage_{i}'\n",
    "        names_ar[3,i]=f'total_pflow_{i}'\n",
    "    res=names_ar.flatten()\n",
    "    return res"
   ]
  },
  {
   "cell_type": "code",
   "execution_count": 16,
   "id": "7db522ab",
   "metadata": {},
   "outputs": [
    {
     "data": {
      "text/html": [
       "<div>\n",
       "<style scoped>\n",
       "    .dataframe tbody tr th:only-of-type {\n",
       "        vertical-align: middle;\n",
       "    }\n",
       "\n",
       "    .dataframe tbody tr th {\n",
       "        vertical-align: top;\n",
       "    }\n",
       "\n",
       "    .dataframe thead th {\n",
       "        text-align: right;\n",
       "    }\n",
       "</style>\n",
       "<table border=\"1\" class=\"dataframe\">\n",
       "  <thead>\n",
       "    <tr style=\"text-align: right;\">\n",
       "      <th></th>\n",
       "      <th>BB_out</th>\n",
       "      <th>FP_out</th>\n",
       "      <th>FR_out</th>\n",
       "      <th>GA_out</th>\n",
       "      <th>GP_out</th>\n",
       "      <th>OH_out</th>\n",
       "    </tr>\n",
       "  </thead>\n",
       "  <tbody>\n",
       "    <tr>\n",
       "      <th>release_0</th>\n",
       "      <td>78.941147</td>\n",
       "      <td>15.300000</td>\n",
       "      <td>37.647059</td>\n",
       "      <td>25.100000</td>\n",
       "      <td>36.000000</td>\n",
       "      <td>51.822201</td>\n",
       "    </tr>\n",
       "    <tr>\n",
       "      <th>release_1</th>\n",
       "      <td>62.924129</td>\n",
       "      <td>15.300000</td>\n",
       "      <td>37.647059</td>\n",
       "      <td>25.100000</td>\n",
       "      <td>36.000000</td>\n",
       "      <td>36.385182</td>\n",
       "    </tr>\n",
       "    <tr>\n",
       "      <th>spill_0</th>\n",
       "      <td>0.000000</td>\n",
       "      <td>0.000000</td>\n",
       "      <td>0.000000</td>\n",
       "      <td>0.000000</td>\n",
       "      <td>0.000000</td>\n",
       "      <td>0.000000</td>\n",
       "    </tr>\n",
       "    <tr>\n",
       "      <th>spill_1</th>\n",
       "      <td>0.000000</td>\n",
       "      <td>0.000000</td>\n",
       "      <td>0.000000</td>\n",
       "      <td>0.000000</td>\n",
       "      <td>0.000000</td>\n",
       "      <td>0.000000</td>\n",
       "    </tr>\n",
       "    <tr>\n",
       "      <th>storage_0</th>\n",
       "      <td>1.631000</td>\n",
       "      <td>15.189553</td>\n",
       "      <td>3.224941</td>\n",
       "      <td>18.211265</td>\n",
       "      <td>0.371439</td>\n",
       "      <td>18.840715</td>\n",
       "    </tr>\n",
       "    <tr>\n",
       "      <th>storage_1</th>\n",
       "      <td>1.631000</td>\n",
       "      <td>15.191537</td>\n",
       "      <td>3.196086</td>\n",
       "      <td>18.209281</td>\n",
       "      <td>0.373244</td>\n",
       "      <td>18.871334</td>\n",
       "    </tr>\n",
       "    <tr>\n",
       "      <th>total_pflow_0</th>\n",
       "      <td>78.941147</td>\n",
       "      <td>15.300000</td>\n",
       "      <td>37.647059</td>\n",
       "      <td>25.100000</td>\n",
       "      <td>36.000000</td>\n",
       "      <td>51.822201</td>\n",
       "    </tr>\n",
       "    <tr>\n",
       "      <th>total_pflow_1</th>\n",
       "      <td>62.924129</td>\n",
       "      <td>15.300000</td>\n",
       "      <td>37.647059</td>\n",
       "      <td>25.100000</td>\n",
       "      <td>36.000000</td>\n",
       "      <td>36.385182</td>\n",
       "    </tr>\n",
       "  </tbody>\n",
       "</table>\n",
       "</div>"
      ],
      "text/plain": [
       "                  BB_out     FP_out     FR_out     GA_out     GP_out  \\\n",
       "release_0      78.941147  15.300000  37.647059  25.100000  36.000000   \n",
       "release_1      62.924129  15.300000  37.647059  25.100000  36.000000   \n",
       "spill_0         0.000000   0.000000   0.000000   0.000000   0.000000   \n",
       "spill_1         0.000000   0.000000   0.000000   0.000000   0.000000   \n",
       "storage_0       1.631000  15.189553   3.224941  18.211265   0.371439   \n",
       "storage_1       1.631000  15.191537   3.196086  18.209281   0.373244   \n",
       "total_pflow_0  78.941147  15.300000  37.647059  25.100000  36.000000   \n",
       "total_pflow_1  62.924129  15.300000  37.647059  25.100000  36.000000   \n",
       "\n",
       "                  OH_out  \n",
       "release_0      51.822201  \n",
       "release_1      36.385182  \n",
       "spill_0         0.000000  \n",
       "spill_1         0.000000  \n",
       "storage_0      18.840715  \n",
       "storage_1      18.871334  \n",
       "total_pflow_0  51.822201  \n",
       "total_pflow_1  36.385182  "
      ]
     },
     "execution_count": 16,
     "metadata": {},
     "output_type": "execute_result"
    }
   ],
   "source": [
    "##joining into one dataframe\n",
    "\n",
    "datasets.index=index_maker(int(len(datasets)/4))\n",
    "datasets=datasets.reindex(sorted(datasets.columns),axis=1)\n",
    "datasets"
   ]
  },
  {
   "cell_type": "code",
   "execution_count": 17,
   "id": "fadf47ef",
   "metadata": {},
   "outputs": [],
   "source": [
    "datasets.to_csv('output/node_solutions/shifted_tree/shifted_Root_node_solutions.csv')"
   ]
  },
  {
   "cell_type": "code",
   "execution_count": 18,
   "id": "a117e155",
   "metadata": {},
   "outputs": [
    {
     "name": "stdout",
     "output_type": "stream",
     "text": [
      "Code is Done!\n"
     ]
    }
   ],
   "source": [
    "print(\"Code is Done!\")"
   ]
  }
 ],
 "metadata": {
  "kernelspec": {
   "display_name": "Python 3 (ipykernel)",
   "language": "python",
   "name": "python3"
  },
  "language_info": {
   "codemirror_mode": {
    "name": "ipython",
    "version": 3
   },
   "file_extension": ".py",
   "mimetype": "text/x-python",
   "name": "python",
   "nbconvert_exporter": "python",
   "pygments_lexer": "ipython3",
   "version": "3.11.5"
  }
 },
 "nbformat": 4,
 "nbformat_minor": 5
}
