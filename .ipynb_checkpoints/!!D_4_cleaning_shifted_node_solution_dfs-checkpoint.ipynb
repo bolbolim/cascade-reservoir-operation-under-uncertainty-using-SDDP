{
 "cells": [
  {
   "cell_type": "code",
   "execution_count": 4,
   "id": "d0b368af",
   "metadata": {},
   "outputs": [],
   "source": [
    "import numpy as np\n",
    "import pandas as pd\n",
    "import os"
   ]
  },
  {
   "cell_type": "code",
   "execution_count": 5,
   "id": "b9877ac2",
   "metadata": {},
   "outputs": [],
   "source": [
    "##getting current path\n",
    "output_path=\"output/node_solutions/shifted_tree\"\n",
    "folder_path=\"output/temp_files/node_solutions/shifted_tree\""
   ]
  },
  {
   "cell_type": "code",
   "execution_count": 6,
   "id": "02c3be22",
   "metadata": {},
   "outputs": [
    {
     "data": {
      "text/plain": [
       "['BB', 'FP', 'FR', 'GA', 'GP', 'OH']"
      ]
     },
     "execution_count": 6,
     "metadata": {},
     "output_type": "execute_result"
    }
   ],
   "source": [
    "cascade_df=pd.read_excel('input/Cascade_info.xlsx',sheet_name='Cascade')\n",
    "name=cascade_df['name']\n",
    "name=sorted(name)\n",
    "name"
   ]
  },
  {
   "cell_type": "code",
   "execution_count": 7,
   "id": "bd43654a",
   "metadata": {},
   "outputs": [],
   "source": [
    "redunt_col=[]\n",
    "col_name=[]\n",
    "all_name=[]\n",
    "for dam in name:\n",
    "    temp_name=dam+'_out'\n",
    "    temp_del=dam+'_in'\n",
    "    redunt_col.append(temp_del)\n",
    "    all_name.append(temp_del)\n",
    "    all_name.append(temp_name)\n",
    "    col_name.append(temp_name)\n",
    "col_name=sorted(col_name)\n",
    "all_name=sorted(all_name)"
   ]
  },
  {
   "cell_type": "code",
   "execution_count": 8,
   "id": "2daa46d5",
   "metadata": {},
   "outputs": [
    {
     "data": {
      "text/plain": [
       "['Nodes_release_solution_shifted_0.csv',\n",
       " 'Nodes_release_solution_shifted_1.csv',\n",
       " 'Nodes_spill_solution_shifted_0.csv',\n",
       " 'Nodes_spill_solution_shifted_1.csv',\n",
       " 'Nodes_storage_solution_shifted_0.csv',\n",
       " 'Nodes_storage_solution_shifted_1.csv',\n",
       " 'Nodes_total_pflow_solution_shifted_0.csv',\n",
       " 'Nodes_total_pflow_solution_shifted_1.csv']"
      ]
     },
     "execution_count": 8,
     "metadata": {},
     "output_type": "execute_result"
    }
   ],
   "source": [
    "file_names=os.listdir(folder_path)\n",
    "file_names"
   ]
  },
  {
   "cell_type": "code",
   "execution_count": 9,
   "id": "34664ee9",
   "metadata": {},
   "outputs": [],
   "source": [
    "raw_dfs=[]\n",
    "for file in file_names:\n",
    "    temp=pd.read_csv(os.path.join(folder_path,file),header=None)\n",
    "    if len(temp.columns)==len(name):\n",
    "        temp.columns=col_name\n",
    "    elif len(temp.columns)==len(name)*2:\n",
    "        temp.columns=all_name\n",
    "    else:\n",
    "        print(\"something is wrong!!\")\n",
    "        print(\"unexcpected columns lenght\")\n",
    "    raw_dfs.append(temp)"
   ]
  },
  {
   "cell_type": "code",
   "execution_count": 10,
   "id": "a0870a31",
   "metadata": {},
   "outputs": [],
   "source": [
    "strings=['SDDP.State{Float64}\\[','SDDP.State{Float64}\\(','SDDP.State{Float64}\\[SDDP.State{Float64}\\(','\\)','\\)\\]','\\]','\\[']\n",
    "datasets=[]\n",
    "for df in raw_dfs:\n",
    "    df=df.replace(strings,'',regex=True)\n",
    "    df=df.astype(float)\n",
    "    if len(df.columns)==len(name)*2:\n",
    "        df.drop(columns=redunt_col,inplace=True)\n",
    "    datasets.append(df)"
   ]
  },
  {
   "cell_type": "code",
   "execution_count": 11,
   "id": "45cb4e28",
   "metadata": {},
   "outputs": [
    {
     "data": {
      "text/html": [
       "<div>\n",
       "<style scoped>\n",
       "    .dataframe tbody tr th:only-of-type {\n",
       "        vertical-align: middle;\n",
       "    }\n",
       "\n",
       "    .dataframe tbody tr th {\n",
       "        vertical-align: top;\n",
       "    }\n",
       "\n",
       "    .dataframe thead th {\n",
       "        text-align: right;\n",
       "    }\n",
       "</style>\n",
       "<table border=\"1\" class=\"dataframe\">\n",
       "  <thead>\n",
       "    <tr style=\"text-align: right;\">\n",
       "      <th></th>\n",
       "      <th>BB_out</th>\n",
       "      <th>FP_out</th>\n",
       "      <th>FR_out</th>\n",
       "      <th>GA_out</th>\n",
       "      <th>GP_out</th>\n",
       "      <th>OH_out</th>\n",
       "    </tr>\n",
       "  </thead>\n",
       "  <tbody>\n",
       "    <tr>\n",
       "      <th>0</th>\n",
       "      <td>15.30000</td>\n",
       "      <td>25.100000</td>\n",
       "      <td>51.822201</td>\n",
       "      <td>78.941147</td>\n",
       "      <td>37.647059</td>\n",
       "      <td>36.000000</td>\n",
       "    </tr>\n",
       "    <tr>\n",
       "      <th>1</th>\n",
       "      <td>24.30000</td>\n",
       "      <td>14.943089</td>\n",
       "      <td>54.575376</td>\n",
       "      <td>55.095376</td>\n",
       "      <td>35.340998</td>\n",
       "      <td>36.000000</td>\n",
       "    </tr>\n",
       "    <tr>\n",
       "      <th>2</th>\n",
       "      <td>24.30000</td>\n",
       "      <td>14.943089</td>\n",
       "      <td>50.205275</td>\n",
       "      <td>50.205275</td>\n",
       "      <td>33.190998</td>\n",
       "      <td>36.000000</td>\n",
       "    </tr>\n",
       "    <tr>\n",
       "      <th>3</th>\n",
       "      <td>24.30000</td>\n",
       "      <td>20.177624</td>\n",
       "      <td>54.600000</td>\n",
       "      <td>54.600000</td>\n",
       "      <td>35.270998</td>\n",
       "      <td>36.000000</td>\n",
       "    </tr>\n",
       "    <tr>\n",
       "      <th>4</th>\n",
       "      <td>31.72089</td>\n",
       "      <td>15.463090</td>\n",
       "      <td>54.600000</td>\n",
       "      <td>50.823045</td>\n",
       "      <td>33.950212</td>\n",
       "      <td>36.000000</td>\n",
       "    </tr>\n",
       "    <tr>\n",
       "      <th>...</th>\n",
       "      <td>...</td>\n",
       "      <td>...</td>\n",
       "      <td>...</td>\n",
       "      <td>...</td>\n",
       "      <td>...</td>\n",
       "      <td>...</td>\n",
       "    </tr>\n",
       "    <tr>\n",
       "      <th>206</th>\n",
       "      <td>31.72089</td>\n",
       "      <td>14.943089</td>\n",
       "      <td>51.529107</td>\n",
       "      <td>51.529107</td>\n",
       "      <td>34.310000</td>\n",
       "      <td>36.000000</td>\n",
       "    </tr>\n",
       "    <tr>\n",
       "      <th>207</th>\n",
       "      <td>31.72089</td>\n",
       "      <td>23.519315</td>\n",
       "      <td>54.600000</td>\n",
       "      <td>54.600000</td>\n",
       "      <td>37.647059</td>\n",
       "      <td>36.000000</td>\n",
       "    </tr>\n",
       "    <tr>\n",
       "      <th>208</th>\n",
       "      <td>31.72089</td>\n",
       "      <td>36.693615</td>\n",
       "      <td>28.558169</td>\n",
       "      <td>28.558169</td>\n",
       "      <td>33.540000</td>\n",
       "      <td>36.000000</td>\n",
       "    </tr>\n",
       "    <tr>\n",
       "      <th>209</th>\n",
       "      <td>31.72089</td>\n",
       "      <td>32.943089</td>\n",
       "      <td>58.761317</td>\n",
       "      <td>58.761317</td>\n",
       "      <td>37.647059</td>\n",
       "      <td>41.907059</td>\n",
       "    </tr>\n",
       "    <tr>\n",
       "      <th>210</th>\n",
       "      <td>31.72089</td>\n",
       "      <td>14.943089</td>\n",
       "      <td>51.058722</td>\n",
       "      <td>51.058722</td>\n",
       "      <td>31.100000</td>\n",
       "      <td>36.000000</td>\n",
       "    </tr>\n",
       "  </tbody>\n",
       "</table>\n",
       "<p>211 rows × 6 columns</p>\n",
       "</div>"
      ],
      "text/plain": [
       "       BB_out     FP_out     FR_out     GA_out     GP_out     OH_out\n",
       "0    15.30000  25.100000  51.822201  78.941147  37.647059  36.000000\n",
       "1    24.30000  14.943089  54.575376  55.095376  35.340998  36.000000\n",
       "2    24.30000  14.943089  50.205275  50.205275  33.190998  36.000000\n",
       "3    24.30000  20.177624  54.600000  54.600000  35.270998  36.000000\n",
       "4    31.72089  15.463090  54.600000  50.823045  33.950212  36.000000\n",
       "..        ...        ...        ...        ...        ...        ...\n",
       "206  31.72089  14.943089  51.529107  51.529107  34.310000  36.000000\n",
       "207  31.72089  23.519315  54.600000  54.600000  37.647059  36.000000\n",
       "208  31.72089  36.693615  28.558169  28.558169  33.540000  36.000000\n",
       "209  31.72089  32.943089  58.761317  58.761317  37.647059  41.907059\n",
       "210  31.72089  14.943089  51.058722  51.058722  31.100000  36.000000\n",
       "\n",
       "[211 rows x 6 columns]"
      ]
     },
     "execution_count": 11,
     "metadata": {},
     "output_type": "execute_result"
    }
   ],
   "source": [
    "datasets[0]"
   ]
  },
  {
   "cell_type": "code",
   "execution_count": 12,
   "id": "b72ad180",
   "metadata": {},
   "outputs": [],
   "source": [
    "##exporting \n",
    "\n",
    "for df ,name in zip(datasets,file_names):\n",
    "    df.to_csv(os.path.join(output_path,\"clean_\"+name), index=False)"
   ]
  },
  {
   "cell_type": "code",
   "execution_count": 14,
   "id": "a117e155",
   "metadata": {},
   "outputs": [
    {
     "name": "stdout",
     "output_type": "stream",
     "text": [
      "Code is Done! \n"
     ]
    }
   ],
   "source": [
    "print(\"Code is Done! \")"
   ]
  }
 ],
 "metadata": {
  "kernelspec": {
   "display_name": "Python 3 (ipykernel)",
   "language": "python",
   "name": "python3"
  },
  "language_info": {
   "codemirror_mode": {
    "name": "ipython",
    "version": 3
   },
   "file_extension": ".py",
   "mimetype": "text/x-python",
   "name": "python",
   "nbconvert_exporter": "python",
   "pygments_lexer": "ipython3",
   "version": "3.11.5"
  }
 },
 "nbformat": 4,
 "nbformat_minor": 5
}
