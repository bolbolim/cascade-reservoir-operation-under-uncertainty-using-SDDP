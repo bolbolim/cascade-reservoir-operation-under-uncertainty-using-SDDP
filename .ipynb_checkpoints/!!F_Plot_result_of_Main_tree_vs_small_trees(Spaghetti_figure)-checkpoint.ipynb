{
 "cells": [
  {
   "cell_type": "code",
   "execution_count": 1,
   "id": "f823146a",
   "metadata": {},
   "outputs": [],
   "source": [
    "import pandas as pd\n",
    "import numpy as np\n",
    "import matplotlib.pyplot as plt\n",
    "import os\n",
    "import matplotlib as mlp\n",
    "from tkinter import Tcl\n",
    "import glob"
   ]
  },
  {
   "cell_type": "code",
   "execution_count": 2,
   "id": "7da61300",
   "metadata": {},
   "outputs": [],
   "source": [
    "##is the problem scaled??\n",
    "\n",
    "scale=True"
   ]
  },
  {
   "cell_type": "code",
   "execution_count": 3,
   "id": "0dff58e0",
   "metadata": {},
   "outputs": [
    {
     "name": "stdout",
     "output_type": "stream",
     "text": [
      "1000.0 1000000.0\n"
     ]
    }
   ],
   "source": [
    "##defining constants\n",
    "\n",
    "if scale:\n",
    "    c1=1e3\n",
    "    c2=1e6\n",
    "else:\n",
    "    c1=1\n",
    "    c2=1\n",
    "print(c1,c2)"
   ]
  },
  {
   "cell_type": "code",
   "execution_count": 4,
   "id": "2228d454",
   "metadata": {},
   "outputs": [],
   "source": [
    "#defining image saving function\n",
    "\n",
    "def save_fig(_id, tight_layout=True, resolution=300):\n",
    "    path = os.path.join(\"./output/main_tree_vs_shifted_trees\", _id + \".png\")\n",
    "    print(\"Saving figure\", _id)\n",
    "    if tight_layout:\n",
    "        plt.tight_layout()\n",
    "    plt.savefig(path, format='png', dpi=resolution)"
   ]
  },
  {
   "cell_type": "code",
   "execution_count": 5,
   "id": "72264a68",
   "metadata": {},
   "outputs": [
    {
     "data": {
      "text/html": [
       "<div>\n",
       "<style scoped>\n",
       "    .dataframe tbody tr th:only-of-type {\n",
       "        vertical-align: middle;\n",
       "    }\n",
       "\n",
       "    .dataframe tbody tr th {\n",
       "        vertical-align: top;\n",
       "    }\n",
       "\n",
       "    .dataframe thead th {\n",
       "        text-align: right;\n",
       "    }\n",
       "</style>\n",
       "<table border=\"1\" class=\"dataframe\">\n",
       "  <thead>\n",
       "    <tr style=\"text-align: right;\">\n",
       "      <th></th>\n",
       "      <th>variables</th>\n",
       "      <th>values</th>\n",
       "    </tr>\n",
       "  </thead>\n",
       "  <tbody>\n",
       "    <tr>\n",
       "      <th>0</th>\n",
       "      <td>Number of stages</td>\n",
       "      <td>21</td>\n",
       "    </tr>\n",
       "    <tr>\n",
       "      <th>1</th>\n",
       "      <td>month for initial storage</td>\n",
       "      <td>3</td>\n",
       "    </tr>\n",
       "    <tr>\n",
       "      <th>2</th>\n",
       "      <td>day for initial storage</td>\n",
       "      <td>31</td>\n",
       "    </tr>\n",
       "    <tr>\n",
       "      <th>3</th>\n",
       "      <td>nuber of rows from begening of USACE forecsat ...</td>\n",
       "      <td>3</td>\n",
       "    </tr>\n",
       "    <tr>\n",
       "      <th>4</th>\n",
       "      <td>nuber of rows from End of USACE forecsat to drop</td>\n",
       "      <td>0</td>\n",
       "    </tr>\n",
       "    <tr>\n",
       "      <th>5</th>\n",
       "      <td>number of small trees</td>\n",
       "      <td>7</td>\n",
       "    </tr>\n",
       "  </tbody>\n",
       "</table>\n",
       "</div>"
      ],
      "text/plain": [
       "                                           variables  values\n",
       "0                                   Number of stages      21\n",
       "1                          month for initial storage       3\n",
       "2                            day for initial storage      31\n",
       "3  nuber of rows from begening of USACE forecsat ...       3\n",
       "4   nuber of rows from End of USACE forecsat to drop       0\n",
       "5                              number of small trees       7"
      ]
     },
     "execution_count": 5,
     "metadata": {},
     "output_type": "execute_result"
    }
   ],
   "source": [
    "#loading user data and getting number of stages\n",
    "\n",
    "user_data=pd.read_csv('input/user_data.csv')\n",
    "n_stages=user_data.iloc[0,1]\n",
    "user_data"
   ]
  },
  {
   "cell_type": "code",
   "execution_count": 6,
   "id": "e7b28844",
   "metadata": {},
   "outputs": [],
   "source": [
    "##current dir and quantile files dir\n",
    "\n",
    "path=os.getcwd()\n",
    "shifted_path=os.path.join(path,\"output/quantile_files/shifted\")\n",
    "main_path=os.path.join(path,\"output/quantile_files/main\")"
   ]
  },
  {
   "cell_type": "code",
   "execution_count": 7,
   "id": "673df985",
   "metadata": {},
   "outputs": [
    {
     "data": {
      "text/plain": [
       "['BB', 'FP', 'FR', 'GA', 'GP', 'OH']"
      ]
     },
     "execution_count": 7,
     "metadata": {},
     "output_type": "execute_result"
    }
   ],
   "source": [
    "params=pd.read_excel('input/Cascade_info.xlsx',sheet_name='plotting_info')\n",
    "dam_name=sorted(params['name'])\n",
    "dam_name"
   ]
  },
  {
   "cell_type": "code",
   "execution_count": 8,
   "id": "5cec91a9",
   "metadata": {},
   "outputs": [],
   "source": [
    "shifted_dict,main_dict={},{}\n",
    "for dam in dam_name:\n",
    "    shifted_dict[dam]=\"\"\n",
    "    main_dict[dam]=\"\""
   ]
  },
  {
   "cell_type": "code",
   "execution_count": 9,
   "id": "4669ae4d",
   "metadata": {},
   "outputs": [
    {
     "data": {
      "text/plain": [
       "{'BB': '', 'FP': '', 'FR': '', 'GA': '', 'GP': '', 'OH': ''}"
      ]
     },
     "execution_count": 9,
     "metadata": {},
     "output_type": "execute_result"
    }
   ],
   "source": [
    "shifted_dict"
   ]
  },
  {
   "cell_type": "code",
   "execution_count": 10,
   "id": "c5ab3804",
   "metadata": {},
   "outputs": [],
   "source": [
    "##for shifted tree\n",
    "for dam in dam_name:\n",
    "    temp_list=[]\n",
    "    for f in os.listdir(shifted_path):\n",
    "        if f.startswith(dam):\n",
    "            temp=pd.read_excel(os.path.join(shifted_path,f))\n",
    "            temp_list.append(temp)\n",
    "        shifted_dict[dam]=temp_list\n",
    "        \n",
    "##for main tree\n",
    "for dam in dam_name:\n",
    "    temp_list=[]\n",
    "    for f in os.listdir(main_path):\n",
    "        if f.startswith(dam):\n",
    "            temp=pd.read_excel(os.path.join(main_path,f))\n",
    "            temp_list.append(temp)\n",
    "        main_dict[dam]=temp_list"
   ]
  },
  {
   "cell_type": "code",
   "execution_count": 11,
   "id": "5a304475",
   "metadata": {},
   "outputs": [
    {
     "data": {
      "text/html": [
       "<div>\n",
       "<style scoped>\n",
       "    .dataframe tbody tr th:only-of-type {\n",
       "        vertical-align: middle;\n",
       "    }\n",
       "\n",
       "    .dataframe tbody tr th {\n",
       "        vertical-align: top;\n",
       "    }\n",
       "\n",
       "    .dataframe thead th {\n",
       "        text-align: right;\n",
       "    }\n",
       "</style>\n",
       "<table border=\"1\" class=\"dataframe\">\n",
       "  <thead>\n",
       "    <tr style=\"text-align: right;\">\n",
       "      <th></th>\n",
       "      <th>x1</th>\n",
       "      <th>x2</th>\n",
       "      <th>x3</th>\n",
       "      <th>x4</th>\n",
       "      <th>x5</th>\n",
       "      <th>x6</th>\n",
       "      <th>x7</th>\n",
       "      <th>x8</th>\n",
       "      <th>x9</th>\n",
       "      <th>x10</th>\n",
       "      <th>x11</th>\n",
       "      <th>x12</th>\n",
       "      <th>x13</th>\n",
       "      <th>x14</th>\n",
       "      <th>x15</th>\n",
       "    </tr>\n",
       "  </thead>\n",
       "  <tbody>\n",
       "    <tr>\n",
       "      <th>0</th>\n",
       "      <td>0.00</td>\n",
       "      <td>78.941147</td>\n",
       "      <td>50.205275</td>\n",
       "      <td>29.784051</td>\n",
       "      <td>11.684967</td>\n",
       "      <td>1.543210</td>\n",
       "      <td>1.543210</td>\n",
       "      <td>9.214269</td>\n",
       "      <td>7.457969</td>\n",
       "      <td>10.712051</td>\n",
       "      <td>23.343892</td>\n",
       "      <td>4.144837</td>\n",
       "      <td>1.543210</td>\n",
       "      <td>1.543210</td>\n",
       "      <td>28.558169</td>\n",
       "    </tr>\n",
       "    <tr>\n",
       "      <th>1</th>\n",
       "      <td>0.10</td>\n",
       "      <td>78.941147</td>\n",
       "      <td>50.205275</td>\n",
       "      <td>29.784051</td>\n",
       "      <td>54.600000</td>\n",
       "      <td>53.811214</td>\n",
       "      <td>53.745598</td>\n",
       "      <td>54.600000</td>\n",
       "      <td>7.922405</td>\n",
       "      <td>15.458924</td>\n",
       "      <td>29.189875</td>\n",
       "      <td>11.060401</td>\n",
       "      <td>1.543210</td>\n",
       "      <td>30.713459</td>\n",
       "      <td>47.396904</td>\n",
       "    </tr>\n",
       "    <tr>\n",
       "      <th>2</th>\n",
       "      <td>0.25</td>\n",
       "      <td>78.941147</td>\n",
       "      <td>50.205275</td>\n",
       "      <td>40.383047</td>\n",
       "      <td>54.600000</td>\n",
       "      <td>54.600000</td>\n",
       "      <td>54.600000</td>\n",
       "      <td>54.600000</td>\n",
       "      <td>52.237831</td>\n",
       "      <td>15.458924</td>\n",
       "      <td>34.867548</td>\n",
       "      <td>37.836507</td>\n",
       "      <td>38.367075</td>\n",
       "      <td>38.838525</td>\n",
       "      <td>51.058722</td>\n",
       "    </tr>\n",
       "    <tr>\n",
       "      <th>3</th>\n",
       "      <td>0.50</td>\n",
       "      <td>78.941147</td>\n",
       "      <td>50.205275</td>\n",
       "      <td>43.053229</td>\n",
       "      <td>54.600000</td>\n",
       "      <td>54.600000</td>\n",
       "      <td>54.600000</td>\n",
       "      <td>54.600000</td>\n",
       "      <td>54.600000</td>\n",
       "      <td>37.434491</td>\n",
       "      <td>55.380000</td>\n",
       "      <td>42.853336</td>\n",
       "      <td>50.136494</td>\n",
       "      <td>47.211834</td>\n",
       "      <td>54.600000</td>\n",
       "    </tr>\n",
       "    <tr>\n",
       "      <th>4</th>\n",
       "      <td>0.75</td>\n",
       "      <td>78.941147</td>\n",
       "      <td>54.723844</td>\n",
       "      <td>47.614374</td>\n",
       "      <td>57.594675</td>\n",
       "      <td>54.680000</td>\n",
       "      <td>54.920000</td>\n",
       "      <td>55.900000</td>\n",
       "      <td>54.600000</td>\n",
       "      <td>55.620000</td>\n",
       "      <td>85.802763</td>\n",
       "      <td>48.823488</td>\n",
       "      <td>55.210204</td>\n",
       "      <td>49.673064</td>\n",
       "      <td>57.000000</td>\n",
       "    </tr>\n",
       "    <tr>\n",
       "      <th>5</th>\n",
       "      <td>0.90</td>\n",
       "      <td>78.941147</td>\n",
       "      <td>55.095376</td>\n",
       "      <td>47.995662</td>\n",
       "      <td>79.735949</td>\n",
       "      <td>54.680000</td>\n",
       "      <td>55.320013</td>\n",
       "      <td>56.399987</td>\n",
       "      <td>54.600000</td>\n",
       "      <td>68.518562</td>\n",
       "      <td>85.802763</td>\n",
       "      <td>55.118603</td>\n",
       "      <td>87.904240</td>\n",
       "      <td>54.207325</td>\n",
       "      <td>69.092593</td>\n",
       "    </tr>\n",
       "    <tr>\n",
       "      <th>6</th>\n",
       "      <td>1.00</td>\n",
       "      <td>78.941147</td>\n",
       "      <td>55.095376</td>\n",
       "      <td>47.995662</td>\n",
       "      <td>79.735949</td>\n",
       "      <td>56.580000</td>\n",
       "      <td>97.316939</td>\n",
       "      <td>84.183652</td>\n",
       "      <td>61.340000</td>\n",
       "      <td>68.813522</td>\n",
       "      <td>87.661648</td>\n",
       "      <td>55.118603</td>\n",
       "      <td>92.573017</td>\n",
       "      <td>74.381794</td>\n",
       "      <td>101.646091</td>\n",
       "    </tr>\n",
       "  </tbody>\n",
       "</table>\n",
       "</div>"
      ],
      "text/plain": [
       "     x1         x2         x3         x4         x5         x6         x7  \\\n",
       "0  0.00  78.941147  50.205275  29.784051  11.684967   1.543210   1.543210   \n",
       "1  0.10  78.941147  50.205275  29.784051  54.600000  53.811214  53.745598   \n",
       "2  0.25  78.941147  50.205275  40.383047  54.600000  54.600000  54.600000   \n",
       "3  0.50  78.941147  50.205275  43.053229  54.600000  54.600000  54.600000   \n",
       "4  0.75  78.941147  54.723844  47.614374  57.594675  54.680000  54.920000   \n",
       "5  0.90  78.941147  55.095376  47.995662  79.735949  54.680000  55.320013   \n",
       "6  1.00  78.941147  55.095376  47.995662  79.735949  56.580000  97.316939   \n",
       "\n",
       "          x8         x9        x10        x11        x12        x13  \\\n",
       "0   9.214269   7.457969  10.712051  23.343892   4.144837   1.543210   \n",
       "1  54.600000   7.922405  15.458924  29.189875  11.060401   1.543210   \n",
       "2  54.600000  52.237831  15.458924  34.867548  37.836507  38.367075   \n",
       "3  54.600000  54.600000  37.434491  55.380000  42.853336  50.136494   \n",
       "4  55.900000  54.600000  55.620000  85.802763  48.823488  55.210204   \n",
       "5  56.399987  54.600000  68.518562  85.802763  55.118603  87.904240   \n",
       "6  84.183652  61.340000  68.813522  87.661648  55.118603  92.573017   \n",
       "\n",
       "         x14         x15  \n",
       "0   1.543210   28.558169  \n",
       "1  30.713459   47.396904  \n",
       "2  38.838525   51.058722  \n",
       "3  47.211834   54.600000  \n",
       "4  49.673064   57.000000  \n",
       "5  54.207325   69.092593  \n",
       "6  74.381794  101.646091  "
      ]
     },
     "execution_count": 11,
     "metadata": {},
     "output_type": "execute_result"
    }
   ],
   "source": [
    "shifted_dict['BB'][0]"
   ]
  },
  {
   "cell_type": "code",
   "execution_count": 12,
   "id": "2ddf54dc",
   "metadata": {},
   "outputs": [
    {
     "data": {
      "text/plain": [
       "4"
      ]
     },
     "execution_count": 12,
     "metadata": {},
     "output_type": "execute_result"
    }
   ],
   "source": [
    "len(main_dict['BB'])"
   ]
  },
  {
   "cell_type": "code",
   "execution_count": 13,
   "id": "f3b0e479",
   "metadata": {},
   "outputs": [
    {
     "name": "stdout",
     "output_type": "stream",
     "text": [
      "4\n",
      "32\n"
     ]
    }
   ],
   "source": [
    "##lets check the lenght\n",
    "\n",
    "print(len(main_dict[dam_name[0]]))\n",
    "print(len(shifted_dict[dam_name[0]]))"
   ]
  },
  {
   "cell_type": "code",
   "execution_count": null,
   "id": "06138e71",
   "metadata": {},
   "outputs": [
    {
     "name": "stdout",
     "output_type": "stream",
     "text": [
      "Saving figure comparison_Release_BB\n",
      "Saving figure comparison_spill_BB\n",
      "Saving figure comparison_storage_BB\n",
      "Saving figure comparison_Powerhouse_BB\n",
      "Saving figure comparison_Release_FP\n",
      "Saving figure comparison_spill_FP\n",
      "Saving figure comparison_storage_FP\n",
      "Saving figure comparison_Powerhouse_FP\n",
      "Saving figure comparison_Release_FR\n",
      "Saving figure comparison_spill_FR\n",
      "Saving figure comparison_storage_FR\n",
      "Saving figure comparison_Powerhouse_FR\n",
      "Saving figure comparison_Release_GA\n",
      "Saving figure comparison_spill_GA\n",
      "Saving figure comparison_storage_GA\n",
      "Saving figure comparison_Powerhouse_GA\n",
      "Saving figure comparison_Release_GP\n",
      "Saving figure comparison_spill_GP\n",
      "Saving figure comparison_storage_GP\n",
      "Saving figure comparison_Powerhouse_GP\n",
      "Saving figure comparison_Release_OH\n",
      "Saving figure comparison_spill_OH\n",
      "Saving figure comparison_storage_OH\n"
     ]
    }
   ],
   "source": [
    "##lets plot them against eachother\n",
    "\n",
    "##make a list of main and shifted datasets\n",
    "A,B=[],[]\n",
    "for name in dam_name:\n",
    "    A.append(main_dict[name])\n",
    "    B.append(shifted_dict[name])\n",
    "h=0\n",
    "\n",
    "## a dict for axes titles \n",
    "dict1={0:[\"Release\",\"Release (cfs)\",c1],1:[\"spill\",'Spill (cfs)',c1],\\\n",
    "       2:[\"storage\",'Storage (AF)',c2],3:[\"Powerhouse\",\"Powerhouse (cfs)\",c1]}\n",
    "\n",
    "## a dict for names\n",
    "dict2={}\n",
    "for i in range(len(dam_name)):\n",
    "    dict2[i]=dam_name[i]\n",
    "\n",
    "##lets loop through lists\n",
    "for AA ,BB in zip(A,B):\n",
    "    for i in range(len(AA)):\n",
    "        \n",
    "        ##data for main tree\n",
    "        a=AA[i].iloc[3,1:]*dict1[i][2]\n",
    "        x=np.arange(0,len(a))\n",
    "        \n",
    "        ##python starts indexing from 0 lets add 1 for beter visulaisation\n",
    "        x=x+1\n",
    "        \n",
    "        ##importing shifted trees data\n",
    "        b=BB[i*8].iloc[3,1:]*dict1[i][2]\n",
    "        b1=BB[i*8+1].iloc[3,1:]*dict1[i][2]\n",
    "        b2=BB[i*8+2].iloc[3,1:]*dict1[i][2]\n",
    "        b3=BB[i*8+3].iloc[3,1:]*dict1[i][2]\n",
    "        b4=BB[i*8+4].iloc[3,1:]*dict1[i][2]\n",
    "        b5=BB[i*8+5].iloc[3,1:]*dict1[i][2]\n",
    "        b6=BB[i*8+6].iloc[3,1:]*dict1[i][2]\n",
    "        b7=BB[i*8+7].iloc[3,1:]*dict1[i][2]\n",
    "        xx=np.arange(0,len(b))\n",
    "        xx=xx+1 \n",
    "        \n",
    "        ##lets plot them\n",
    "        fig=plt.figure(figsize=(40,20),dpi=300)\n",
    "        ax=fig.add_subplot(111,label='1')\n",
    "        ax.plot(xx,b,color='b',linewidth=5,label='0shift')\n",
    "        \n",
    "        ##we realize that in some cases lines for the first 2 shifted trees are indistinguishable,\\\n",
    "        ##so we also added marker to lines\n",
    "        \n",
    "        ax.scatter(xx,b,marker='^', color='b',s=2000)#,linewidth=5)\n",
    "        ax.plot(xx+1,b1,color='y',linewidth=5,label='1shift')\n",
    "        ax.scatter(xx+1,b1,marker='.', color='y',s=2000)#,linewidth=5)\n",
    "        ax.plot(xx+2,b2,color='lightgreen',linewidth=5,label='2shift')\n",
    "        ax.plot(xx+3,b3,color='c',linewidth=5,label='3shift')\n",
    "        ax.plot(xx+4,b4,color='r',linewidth=5,label='4shift')\n",
    "        ax.plot(xx+5,b5,color='grey',linewidth=5,label='5shift')\n",
    "        ax.plot(xx+6,b6,color='forestgreen',linewidth=5,label='6shift')\n",
    "        ax.plot(xx+7,b7,color='orange',linewidth=5,label='7shifted')\n",
    "        ax.plot(x,a,color='k',linewidth=5,label='main tree')\n",
    "        title=str(f'{dict1[i][0]}')+str(\"_\")+str(f'{dict2[h]}')\n",
    "        ylabel=f'{dict1[i][1]}'\n",
    "        plt.title(title,fontsize=30)\n",
    "        plt.xlabel(f'Stage ({len(a)} day horizon)',fontsize=30)\n",
    "        plt.ylabel(ylabel,fontsize=30)\n",
    "        plt.grid(True,which='major',axis='both')\n",
    "        plt.xticks(ticks=x)\n",
    "        ax.tick_params(axis='both', which='major', labelsize=20)\n",
    "        plt.xlim([1,len(a)])\n",
    "        ax.legend(fontsize=30)\n",
    "        name=\"comparison_\"+title\n",
    "        save_fig(name)\n",
    "        plt.close('all')\n",
    "    h=h+1"
   ]
  },
  {
   "cell_type": "code",
   "execution_count": null,
   "id": "a5bc4889",
   "metadata": {},
   "outputs": [],
   "source": [
    "plt.close('all')"
   ]
  },
  {
   "cell_type": "code",
   "execution_count": null,
   "id": "b950e8c2",
   "metadata": {},
   "outputs": [],
   "source": [
    "print(\"plotting of camparison plots is Done!!\")"
   ]
  }
 ],
 "metadata": {
  "kernelspec": {
   "display_name": "Python 3 (ipykernel)",
   "language": "python",
   "name": "python3"
  },
  "language_info": {
   "codemirror_mode": {
    "name": "ipython",
    "version": 3
   },
   "file_extension": ".py",
   "mimetype": "text/x-python",
   "name": "python",
   "nbconvert_exporter": "python",
   "pygments_lexer": "ipython3",
   "version": "3.11.5"
  }
 },
 "nbformat": 4,
 "nbformat_minor": 5
}
